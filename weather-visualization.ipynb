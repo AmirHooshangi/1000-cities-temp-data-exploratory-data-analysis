{
 "cells": [
  {
   "cell_type": "code",
   "execution_count": 1,
   "id": "31ac5116",
   "metadata": {},
   "outputs": [],
   "source": [
    "#!pip install pandas\n",
    "import pandas as pd\n",
    "import matplotlib.pyplot as plt\n",
    "import numpy as np\n",
    "import datetime"
   ]
  },
  {
   "cell_type": "code",
   "execution_count": 2,
   "id": "71f652e1",
   "metadata": {},
   "outputs": [],
   "source": [
    "dtype_dict = dict(zip(range(13, 14898), ['float32' for _ in range(13, 14898)]))\n",
    "weather_df = pd.read_csv(\"transposed_daily_temperature_1000_cities_1980_2020.csv\", low_memory=False,\n",
    "                              dtype=dtype_dict)\n",
    "weather_df.columns = weather_df.columns[:13].union(pd.to_datetime(weather_df.columns[13:]), sort=False)\n",
    "weather_df.set_index(\"city\", inplace=True)\n"
   ]
  },
  {
   "cell_type": "code",
   "execution_count": 35,
   "id": "6307ce27",
   "metadata": {},
   "outputs": [],
   "source": [
    "def city_temperature(weather_df, city, start, end, freq, inclusive):\n",
    "    time_range = pd.date_range(start=start, end=end, freq=freq, inclusive=inclusive)\n",
    "    weather_df = weather_df[time_range]\n",
    "    return weather_df.loc[city]\n"
   ]
  },
  {
   "cell_type": "code",
   "execution_count": 37,
   "id": "3c632213",
   "metadata": {},
   "outputs": [
    {
     "data": {
      "text/html": [
       "<div>\n",
       "<style scoped>\n",
       "    .dataframe tbody tr th:only-of-type {\n",
       "        vertical-align: middle;\n",
       "    }\n",
       "\n",
       "    .dataframe tbody tr th {\n",
       "        vertical-align: top;\n",
       "    }\n",
       "\n",
       "    .dataframe thead th {\n",
       "        text-align: right;\n",
       "    }\n",
       "</style>\n",
       "<table border=\"1\" class=\"dataframe\">\n",
       "  <thead>\n",
       "    <tr style=\"text-align: right;\">\n",
       "      <th></th>\n",
       "      <th>1980-01-01 00:00:00</th>\n",
       "      <th>1980-01-02 00:00:00</th>\n",
       "      <th>1980-01-03 00:00:00</th>\n",
       "      <th>1980-01-04 00:00:00</th>\n",
       "      <th>1980-01-05 00:00:00</th>\n",
       "      <th>1980-01-06 00:00:00</th>\n",
       "      <th>1980-01-07 00:00:00</th>\n",
       "      <th>1980-01-08 00:00:00</th>\n",
       "      <th>1980-01-09 00:00:00</th>\n",
       "      <th>1980-01-10 00:00:00</th>\n",
       "    </tr>\n",
       "    <tr>\n",
       "      <th>city</th>\n",
       "      <th></th>\n",
       "      <th></th>\n",
       "      <th></th>\n",
       "      <th></th>\n",
       "      <th></th>\n",
       "      <th></th>\n",
       "      <th></th>\n",
       "      <th></th>\n",
       "      <th></th>\n",
       "      <th></th>\n",
       "    </tr>\n",
       "  </thead>\n",
       "  <tbody>\n",
       "    <tr>\n",
       "      <th>Tehran</th>\n",
       "      <td>-4.54</td>\n",
       "      <td>-3.00</td>\n",
       "      <td>-1.02</td>\n",
       "      <td>-1.69</td>\n",
       "      <td>0.39</td>\n",
       "      <td>1.28</td>\n",
       "      <td>-3.05</td>\n",
       "      <td>-5.74</td>\n",
       "      <td>-6.62</td>\n",
       "      <td>-5.00</td>\n",
       "    </tr>\n",
       "    <tr>\n",
       "      <th>Tokyo</th>\n",
       "      <td>4.16</td>\n",
       "      <td>4.06</td>\n",
       "      <td>7.12</td>\n",
       "      <td>9.23</td>\n",
       "      <td>3.20</td>\n",
       "      <td>7.01</td>\n",
       "      <td>3.21</td>\n",
       "      <td>2.03</td>\n",
       "      <td>4.49</td>\n",
       "      <td>5.94</td>\n",
       "    </tr>\n",
       "    <tr>\n",
       "      <th>New York</th>\n",
       "      <td>1.48</td>\n",
       "      <td>1.00</td>\n",
       "      <td>-3.23</td>\n",
       "      <td>-1.81</td>\n",
       "      <td>-4.31</td>\n",
       "      <td>-0.79</td>\n",
       "      <td>1.18</td>\n",
       "      <td>-1.72</td>\n",
       "      <td>-2.94</td>\n",
       "      <td>3.85</td>\n",
       "    </tr>\n",
       "  </tbody>\n",
       "</table>\n",
       "</div>"
      ],
      "text/plain": [
       "          1980-01-01 00:00:00  1980-01-02 00:00:00  1980-01-03 00:00:00  \\\n",
       "city                                                                      \n",
       "Tehran                  -4.54                -3.00                -1.02   \n",
       "Tokyo                    4.16                 4.06                 7.12   \n",
       "New York                 1.48                 1.00                -3.23   \n",
       "\n",
       "          1980-01-04 00:00:00  1980-01-05 00:00:00  1980-01-06 00:00:00  \\\n",
       "city                                                                      \n",
       "Tehran                  -1.69                 0.39                 1.28   \n",
       "Tokyo                    9.23                 3.20                 7.01   \n",
       "New York                -1.81                -4.31                -0.79   \n",
       "\n",
       "          1980-01-07 00:00:00  1980-01-08 00:00:00  1980-01-09 00:00:00  \\\n",
       "city                                                                      \n",
       "Tehran                  -3.05                -5.74                -6.62   \n",
       "Tokyo                    3.21                 2.03                 4.49   \n",
       "New York                 1.18                -1.72                -2.94   \n",
       "\n",
       "          1980-01-10 00:00:00  \n",
       "city                           \n",
       "Tehran                  -5.00  \n",
       "Tokyo                    5.94  \n",
       "New York                 3.85  "
      ]
     },
     "execution_count": 37,
     "metadata": {},
     "output_type": "execute_result"
    }
   ],
   "source": [
    "#Suppose that we want to see the temperature of Terhan and Tokyo for 10 consecutive days since 1980\n",
    "city_temperature(weather_df,[\"Tehran\", \"Tokyo\", \"New York\"] ,'1/1/1980', '1/10/1980', 'D', 'both')"
   ]
  },
  {
   "cell_type": "code",
   "execution_count": 38,
   "id": "bdf35f05",
   "metadata": {},
   "outputs": [
    {
     "ename": "TypeError",
     "evalue": "city_temperature() missing 1 required positional argument: 'inclusive'",
     "output_type": "error",
     "traceback": [
      "\u001b[0;31m---------------------------------------------------------------------------\u001b[0m",
      "\u001b[0;31mTypeError\u001b[0m                                 Traceback (most recent call last)",
      "Input \u001b[0;32mIn [38]\u001b[0m, in \u001b[0;36m<cell line: 2>\u001b[0;34m()\u001b[0m\n\u001b[1;32m      1\u001b[0m \u001b[38;5;66;03m#We can also plot temperature  \u001b[39;00m\n\u001b[0;32m----> 2\u001b[0m ax \u001b[38;5;241m=\u001b[39m \u001b[43mcity_temperature\u001b[49m\u001b[43m(\u001b[49m\u001b[43mweather_df\u001b[49m\u001b[43m,\u001b[49m\u001b[38;5;124;43m\"\u001b[39;49m\u001b[38;5;124;43mTehran\u001b[39;49m\u001b[38;5;124;43m\"\u001b[39;49m\u001b[43m \u001b[49m\u001b[43m,\u001b[49m\u001b[38;5;124;43m'\u001b[39;49m\u001b[38;5;124;43m1/1/1980\u001b[39;49m\u001b[38;5;124;43m'\u001b[39;49m\u001b[43m,\u001b[49m\u001b[38;5;124;43m'\u001b[39;49m\u001b[38;5;124;43m1/10/1981\u001b[39;49m\u001b[38;5;124;43m'\u001b[39;49m\u001b[43m,\u001b[49m\u001b[43m \u001b[49m\u001b[38;5;124;43m'\u001b[39;49m\u001b[38;5;124;43mD\u001b[39;49m\u001b[38;5;124;43m'\u001b[39;49m\u001b[43m)\u001b[49m\u001b[38;5;241m.\u001b[39mplot()\n\u001b[1;32m      3\u001b[0m ax\u001b[38;5;241m.\u001b[39mset_xlabel(\u001b[38;5;124m\"\u001b[39m\u001b[38;5;124mDate\u001b[39m\u001b[38;5;124m\"\u001b[39m)\n\u001b[1;32m      4\u001b[0m ax\u001b[38;5;241m.\u001b[39mset_ylabel(\u001b[38;5;124m\"\u001b[39m\u001b[38;5;124mTemperature (C)\u001b[39m\u001b[38;5;124m\"\u001b[39m)\n",
      "\u001b[0;31mTypeError\u001b[0m: city_temperature() missing 1 required positional argument: 'inclusive'"
     ]
    }
   ],
   "source": [
    "#We can also plot temperature  \n",
    "ax = city_temperature(weather_df,\"Tehran\" ,'1/1/1980','1/10/1981', 'D').plot()\n",
    "ax.set_xlabel(\"Date\")\n",
    "ax.set_ylabel(\"Temperature (C)\")\n",
    "plt.show()"
   ]
  },
  {
   "cell_type": "code",
   "execution_count": 57,
   "id": "afa1d8d2",
   "metadata": {},
   "outputs": [
    {
     "data": {
      "image/png": "[encoded data removed]",
      "text/plain": [
       "<Figure size 432x288 with 1 Axes>"
      ]
     },
     "metadata": {
      "needs_background": "light"
     },
     "output_type": "display_data"
    }
   ],
   "source": [
    "from datetime import date\n",
    "\n",
    "end_date =  date(2020, 9, 30)\n",
    "\n",
    "def add_years(d, years):\n",
    "    \"\"\"Return a date that's `years` years after the date (or datetime)\n",
    "    object `d`. Return the same calendar date (month and day) in the\n",
    "    destination year, if it exists, otherwise use the following day\n",
    "    (thus changing February 29 to March 1).\n",
    "\n",
    "    \"\"\"\n",
    "    if d.replace(year = d.year + years) >= end_date:\n",
    "        return end_date\n",
    "    try:\n",
    "        return d.replace(year = d.year + years)\n",
    "    except ValueError:\n",
    "        return d + (date(d.year + years, 1, 1) - date(d.year, 1, 1))\n",
    "\n",
    "start_date = date(1980, 1, 1)\n",
    "\n",
    "'''\n",
    "With data time functions now we can easily calculate the mean for a year.  \n",
    "'''\n",
    "[city_temperature(weather_df,\"Tehran\" ,add_years(start_date, 0+x), add_years(start_date, 1+x), 'D', 'left') for x in range(0, 41)]\n",
    "\n",
    "tehran_yearly_mean = [city_temperature(weather_df,\"Tehran\" ,add_years(start_date, 0+x), add_years(start_date, 1+x), 'D', 'left').mean() for x in range(0, 41)]\n",
    "tokyo_yearly_mean = [city_temperature(weather_df,\"Tokyo\" ,add_years(start_date, 0+x), add_years(start_date, 1+x), 'D', 'left').mean() for x in range(0, 41)]\n",
    "newyork_yearly_mean = [city_temperature(weather_df,\"New York\" ,add_years(start_date, 0+x), add_years(start_date, 1+x), 'D', 'left').mean() for x in range(0, 41)]\n",
    "\n",
    "\n",
    "\n",
    "years = city_temperature(weather_df,[\"Tehran\"] ,'1/1/1980', '9/30/2020', 'YS', 'both').columns\n",
    "line_tehran = plt.plot(years, tehran_yearly_mean, label='Tehran')\n",
    "line_tokyo = plt.plot(years, tokyo_yearly_mean, label= 'Tokyo')\n",
    "line_tokyo = plt.plot(years, newyork_yearly_mean, label= 'New york')\n",
    "plt.legend()\n",
    "plt.show()\n",
    "\n",
    "\n",
    "\n",
    "\n",
    "\n"
   ]
  },
  {
   "cell_type": "code",
   "execution_count": null,
   "id": "1fd05fc0",
   "metadata": {},
   "outputs": [],
   "source": []
  }
 ],
 "metadata": {
  "kernelspec": {
   "display_name": "Python 3 (ipykernel)",
   "language": "python",
   "name": "python3"
  },
  "language_info": {
   "codemirror_mode": {
    "name": "ipython",
    "version": 3
   },
   "file_extension": ".py",
   "mimetype": "text/x-python",
   "name": "python",
   "nbconvert_exporter": "python",
   "pygments_lexer": "ipython3",
   "version": "3.9.2"
  }
 },
 "nbformat": 4,
 "nbformat_minor": 5
}
