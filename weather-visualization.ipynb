{
 "cells": [
  {
   "cell_type": "code",
   "execution_count": 1,
   "id": "31ac5116",
   "metadata": {},
   "outputs": [],
   "source": [
    "#!pip install pandas\n",
    "import pandas as pd\n",
    "import matplotlib.pyplot as plt\n",
    "import numpy as np"
   ]
  },
  {
   "cell_type": "code",
   "execution_count": 2,
   "id": "71f652e1",
   "metadata": {},
   "outputs": [],
   "source": [
    "dtype_dict = dict(zip(range(13, 14898), ['float32' for _ in range(13, 14898)]))\n",
    "weather_df = pd.read_csv(\"transposed_daily_temperature_1000_cities_1980_2020.csv\", low_memory=False,\n",
    "                              dtype=dtype_dict)\n",
    "weather_df.columns = weather_df.columns[:13].union(pd.to_datetime(weather_df.columns[13:]), sort=False)\n",
    "weather_df.set_index(\"city\", inplace=True)\n"
   ]
  },
  {
   "cell_type": "code",
   "execution_count": 3,
   "id": "6307ce27",
   "metadata": {},
   "outputs": [],
   "source": [
    "def city_temperature(weather_df, city, start, end, freq):\n",
    "    time_range = pd.date_range(start=start, end=end, freq=freq)\n",
    "    weather_df = weather_df[time_range]\n",
    "    return weather_df.loc[city]\n"
   ]
  },
  {
   "cell_type": "code",
   "execution_count": 4,
   "id": "2f329fa2",
   "metadata": {},
   "outputs": [
    {
     "data": {
      "text/html": [
       "<div>\n",
       "<style scoped>\n",
       "    .dataframe tbody tr th:only-of-type {\n",
       "        vertical-align: middle;\n",
       "    }\n",
       "\n",
       "    .dataframe tbody tr th {\n",
       "        vertical-align: top;\n",
       "    }\n",
       "\n",
       "    .dataframe thead th {\n",
       "        text-align: right;\n",
       "    }\n",
       "</style>\n",
       "<table border=\"1\" class=\"dataframe\">\n",
       "  <thead>\n",
       "    <tr style=\"text-align: right;\">\n",
       "      <th></th>\n",
       "      <th>1980-01-01 00:00:00</th>\n",
       "      <th>1980-01-02 00:00:00</th>\n",
       "      <th>1980-01-03 00:00:00</th>\n",
       "      <th>1980-01-04 00:00:00</th>\n",
       "      <th>1980-01-05 00:00:00</th>\n",
       "      <th>1980-01-06 00:00:00</th>\n",
       "      <th>1980-01-07 00:00:00</th>\n",
       "      <th>1980-01-08 00:00:00</th>\n",
       "      <th>1980-01-09 00:00:00</th>\n",
       "      <th>1980-01-10 00:00:00</th>\n",
       "    </tr>\n",
       "    <tr>\n",
       "      <th>city</th>\n",
       "      <th></th>\n",
       "      <th></th>\n",
       "      <th></th>\n",
       "      <th></th>\n",
       "      <th></th>\n",
       "      <th></th>\n",
       "      <th></th>\n",
       "      <th></th>\n",
       "      <th></th>\n",
       "      <th></th>\n",
       "    </tr>\n",
       "  </thead>\n",
       "  <tbody>\n",
       "    <tr>\n",
       "      <th>Tehran</th>\n",
       "      <td>-4.54</td>\n",
       "      <td>-3.00</td>\n",
       "      <td>-1.02</td>\n",
       "      <td>-1.69</td>\n",
       "      <td>0.39</td>\n",
       "      <td>1.28</td>\n",
       "      <td>-3.05</td>\n",
       "      <td>-5.74</td>\n",
       "      <td>-6.62</td>\n",
       "      <td>-5.00</td>\n",
       "    </tr>\n",
       "    <tr>\n",
       "      <th>Tokyo</th>\n",
       "      <td>4.16</td>\n",
       "      <td>4.06</td>\n",
       "      <td>7.12</td>\n",
       "      <td>9.23</td>\n",
       "      <td>3.20</td>\n",
       "      <td>7.01</td>\n",
       "      <td>3.21</td>\n",
       "      <td>2.03</td>\n",
       "      <td>4.49</td>\n",
       "      <td>5.94</td>\n",
       "    </tr>\n",
       "  </tbody>\n",
       "</table>\n",
       "</div>"
      ],
      "text/plain": [
       "        1980-01-01 00:00:00  1980-01-02 00:00:00  1980-01-03 00:00:00  \\\n",
       "city                                                                    \n",
       "Tehran                -4.54                -3.00                -1.02   \n",
       "Tokyo                  4.16                 4.06                 7.12   \n",
       "\n",
       "        1980-01-04 00:00:00  1980-01-05 00:00:00  1980-01-06 00:00:00  \\\n",
       "city                                                                    \n",
       "Tehran                -1.69                 0.39                 1.28   \n",
       "Tokyo                  9.23                 3.20                 7.01   \n",
       "\n",
       "        1980-01-07 00:00:00  1980-01-08 00:00:00  1980-01-09 00:00:00  \\\n",
       "city                                                                    \n",
       "Tehran                -3.05                -5.74                -6.62   \n",
       "Tokyo                  3.21                 2.03                 4.49   \n",
       "\n",
       "        1980-01-10 00:00:00  \n",
       "city                         \n",
       "Tehran                -5.00  \n",
       "Tokyo                  5.94  "
      ]
     },
     "execution_count": 4,
     "metadata": {},
     "output_type": "execute_result"
    }
   ],
   "source": [
    "#Suppose that we want to see the temperature of Terhan and Tokyo for 10 consecutive days since 1980\n",
    "city_temperature(weather_df,[\"Tehran\", \"Tokyo\"] ,'1/1/1980', '1/10/1980', 'D')"
   ]
  },
  {
   "cell_type": "code",
   "execution_count": 7,
   "id": "b98b9728",
   "metadata": {},
   "outputs": [
    {
     "data": {
      "image/png": "[encoded data removed]",
      "text/plain": [
       "<Figure size 432x288 with 1 Axes>"
      ]
     },
     "metadata": {
      "needs_background": "light"
     },
     "output_type": "display_data"
    }
   ],
   "source": [
    "#We can also plot temperature  \n",
    "ax=city_temperature(weather_df,\"Tehran\" ,'1/1/1980','1/10/1981', 'M').plot()\n",
    "#ax.set_xlabel(\"date\")[]\n",
    "#ax.set_ylabel(\"temperature (C)\")\n",
    "plt.show()"
   ]
  },
  {
   "cell_type": "code",
   "execution_count": null,
   "id": "b379b45a",
   "metadata": {},
   "outputs": [],
   "source": []
  }
 ],
 "metadata": {
  "kernelspec": {
   "display_name": "Python 3 (ipykernel)",
   "language": "python",
   "name": "python3"
  },
  "language_info": {
   "codemirror_mode": {
    "name": "ipython",
    "version": 3
   },
   "file_extension": ".py",
   "mimetype": "text/x-python",
   "name": "python",
   "nbconvert_exporter": "python",
   "pygments_lexer": "ipython3",
   "version": "3.9.2"
  }
 },
 "nbformat": 4,
 "nbformat_minor": 5
}
