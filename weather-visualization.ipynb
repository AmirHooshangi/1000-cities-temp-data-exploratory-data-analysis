{
 "cells": [
  {
   "cell_type": "code",
   "execution_count": 1,
   "id": "31ac5116",
   "metadata": {},
   "outputs": [
    {
     "name": "stdout",
     "output_type": "stream",
     "text": [
      "Requirement already satisfied: pandas in /home/velorin/.virtualenvs/sys_py3/lib/python3.9/site-packages (1.4.2)\r\n",
      "Requirement already satisfied: pytz>=2020.1 in /home/velorin/.virtualenvs/sys_py3/lib/python3.9/site-packages (from pandas) (2022.1)\r\n",
      "Requirement already satisfied: python-dateutil>=2.8.1 in /home/velorin/.virtualenvs/sys_py3/lib/python3.9/site-packages (from pandas) (2.8.2)\r\n",
      "Requirement already satisfied: numpy>=1.18.5 in /home/velorin/.virtualenvs/sys_py3/lib/python3.9/site-packages (from pandas) (1.22.3)\r\n",
      "Requirement already satisfied: six>=1.5 in /home/velorin/.virtualenvs/sys_py3/lib/python3.9/site-packages (from python-dateutil>=2.8.1->pandas) (1.16.0)\r\n"
     ]
    }
   ],
   "source": [
    "!pip install pandas\n",
    "import pandas as pd"
   ]
  },
  {
   "cell_type": "code",
   "execution_count": 3,
   "id": "71f652e1",
   "metadata": {},
   "outputs": [
    {
     "name": "stdout",
     "output_type": "stream",
     "text": [
      "<class 'pandas.core.frame.DataFrame'>\n",
      "Index: 1000 entries, Tokyo to Göteborg\n",
      "Columns: 14895 entries, city_ascii to 2020-09-30 00:00:00\n",
      "dtypes: object(14895)\n",
      "memory usage: 113.6+ MB\n"
     ]
    }
   ],
   "source": [
    "weather = pd.read_csv(\"daily_temperature_1000_cities_1980_2020.csv\", low_memory=False)\n",
    "weather = weather.transpose()\n",
    "weather.columns = weather.iloc[0, :]\n",
    "weather.drop(index=weather.index[0],\n",
    "        axis=0,\n",
    "        inplace=True)\n",
    "weather.columns = weather.columns[:12].union(pd.to_datetime(weather.columns[12:]), sort=False)\n",
    "\n",
    "weather.set_index(\"city\", inplace=True)\n",
    "weather.info()"
   ]
  },
  {
   "cell_type": "code",
   "execution_count": null,
   "id": "6307ce27",
   "metadata": {},
   "outputs": [],
   "source": []
  }
 ],
 "metadata": {
  "kernelspec": {
   "display_name": "Python 3 (ipykernel)",
   "language": "python",
   "name": "python3"
  },
  "language_info": {
   "codemirror_mode": {
    "name": "ipython",
    "version": 3
   },
   "file_extension": ".py",
   "mimetype": "text/x-python",
   "name": "python",
   "nbconvert_exporter": "python",
   "pygments_lexer": "ipython3",
   "version": "3.9.2"
  }
 },
 "nbformat": 4,
 "nbformat_minor": 5
}
